{
 "cells": [
  {
   "cell_type": "markdown",
   "id": "8085b35f",
   "metadata": {},
   "source": [
    "# Face Detection using OpenCV Caffemodel"
   ]
  },
  {
   "cell_type": "code",
   "execution_count": 12,
   "id": "4cee0647",
   "metadata": {},
   "outputs": [],
   "source": [
    "import numpy as np\n",
    "import cv2"
   ]
  },
  {
   "cell_type": "code",
   "execution_count": 13,
   "id": "7e450570",
   "metadata": {},
   "outputs": [
    {
     "name": "stdout",
     "output_type": "stream",
     "text": [
      "[INFO] DEFINING PARAMETERS...\n"
     ]
    }
   ],
   "source": [
    "print(\"[INFO] DEFINING PARAMETERS...\")\n",
    "    \n",
    "# Files needed for face detection\n",
    "prototxt_path = './FaceDetection_OpenCV_DNN_Files/deploy.prototxt.txt'\n",
    "weights_path = './FaceDetection_OpenCV_DNN_Files/res10_300x300_ssd_iter_140000.caffemodel'\n",
    "\n",
    "# Minimum probability to filter weak detections\n",
    "MIN_CONFIDENCE = 0.5\n",
    "\n",
    "# ENTER THE PATH TO YOUR VIDEO HERE\n",
    "path_to_video = './videos/video1.m4v'"
   ]
  },
  {
   "cell_type": "code",
   "execution_count": 14,
   "id": "cc553b97",
   "metadata": {},
   "outputs": [
    {
     "name": "stdout",
     "output_type": "stream",
     "text": [
      "[INFO] LOADING CAFFE FACE DETECTION MODEL...\n"
     ]
    }
   ],
   "source": [
    "print(\"[INFO] LOADING CAFFE FACE DETECTION MODEL...\")\n",
    "\n",
    "# Load the face detector model\n",
    "# This face detection model is a pretrained model and is supported by opencv\n",
    "face_detection_dnn = cv2.dnn.readNet(prototxt_path, weights_path)"
   ]
  },
  {
   "cell_type": "code",
   "execution_count": 15,
   "id": "734028df",
   "metadata": {},
   "outputs": [],
   "source": [
    "# Detect all faces in GIVEN image using the pretrained model\n",
    "\n",
    "def detect_faces(image):    \n",
    "    blob = cv2.dnn.blobFromImage(image, 1.0, (300, 300), (104.0, 177.0, 123.0))\n",
    "    # we resize to 300×300 pixels and perform mean subtraction.\n",
    "\n",
    "    # BLOB stands for Binary Large OBject and refers to a group of connected pixels in a binary image. \n",
    "    # The term \"Large\" indicates that only objects of a certain size are of interest \n",
    "    # and that the other \"small\" binary objects are usually noise.\n",
    "    \n",
    "    # pass the blob through the network and obtain the face detections\n",
    "\n",
    "    face_detection_dnn.setInput(blob)\n",
    "    face_detections = face_detection_dnn.forward()\n",
    "\n",
    "    # Now we have all the detected faces and we know the location of each detected face\n",
    "    # We will consider a face to be 'detected' if its confidence is greater than our minimum confidence\n",
    "    \n",
    "    return face_detections"
   ]
  },
  {
   "cell_type": "code",
   "execution_count": 16,
   "id": "2a72b0dc",
   "metadata": {},
   "outputs": [],
   "source": [
    "def perform_face_mask_detection(frame):\n",
    "    height = frame.shape[0]\n",
    "    width = frame.shape[1]\n",
    "    \n",
    "    face_detections = detect_faces(frame)\n",
    "    \n",
    "    locations = []    # stores the locations of the detected faces\n",
    "    confidences = []\n",
    "    \n",
    "    # Iterate through all the face detections\n",
    "    for i in range(face_detections.shape[2]):\n",
    "        # Confidence or probability of currenct detection\n",
    "        confidence = face_detections[0, 0, i, 2]\n",
    "\n",
    "        # Detections with confidence higher than our threshold are only considered\n",
    "        if confidence > MIN_CONFIDENCE:\n",
    "            \n",
    "            # Computing boundaries of the bounding box of the detected face\n",
    "            detected_rectangle = face_detections[0, 0, i, 3:7] * np.array([width, height, width, height])\n",
    "            (startX, startY, endX, endY) = detected_rectangle.astype(\"int\")\n",
    "\n",
    "            # Ensuring that the position of the detected face are within the boundaries of the image\n",
    "            startX = max(0, startX)\n",
    "            startY = max(0, startY)\n",
    "            endX = min(endX, width-1)\n",
    "            endY = min(endY, height-1)\n",
    "\n",
    "            locations.append((startX, startY, endX, endY))\n",
    "            confidences.append(confidence)\n",
    "            \n",
    "    return locations, confidences"
   ]
  },
  {
   "cell_type": "code",
   "execution_count": 17,
   "id": "fe31bfde",
   "metadata": {},
   "outputs": [
    {
     "name": "stdout",
     "output_type": "stream",
     "text": [
      "[INFO] STARTING THE VIDEO...\n"
     ]
    }
   ],
   "source": [
    "# Start the webcam and detect face masks in each of the frames\n",
    "\n",
    "print('[INFO] STARTING THE VIDEO...')\n",
    "\n",
    "vid = cv2.VideoCapture(path_to_video)\n",
    "\n",
    "\n",
    "# loop over the frames from the video stream\n",
    "while vid.isOpened():\n",
    "    # resize each frame to have a maximum width of 400 pixels\n",
    "    ret, frame = vid.read()\n",
    "\n",
    "    if ret == True:\n",
    "        height = frame.shape[0]\n",
    "        width = frame.shape[1]\n",
    "                \n",
    "        # detect faces in the frame and determine if they are wearing a face mask or not\n",
    "        locations, confidences = perform_face_mask_detection(frame)\n",
    "\n",
    "        for (location, confidence) in zip(locations, confidences):\n",
    "            (startX, startY, endX, endY) = location\n",
    "\n",
    "            # Displaying rectangle\n",
    "            cv2.rectangle(frame, (startX, startY), (endX, endY), (0,200,0), 2)\n",
    "            \n",
    "            # Display confidence\n",
    "            label = '{:.2f}%'.format(confidence*100)\n",
    "            cv2.putText(frame, label, (startX, endY+30), cv2.FONT_HERSHEY_SIMPLEX, 0.8, (0,255,0), 2)\n",
    "            \n",
    "            cv2.putText(frame, 'Press Q to exit', (20, 50), cv2.FONT_HERSHEY_SIMPLEX, 0.8, (255,0,0), 3)\n",
    "\n",
    "        # Displaying the output frame\n",
    "        cv2.imshow('Face Detection', frame)\n",
    "\n",
    "        # Break if 'q' is pressed\n",
    "        if cv2.waitKey(5) & 0xFF == ord('q'):\n",
    "            break\n",
    "    else:\n",
    "        break\n",
    "\n",
    "# Destroy all frames and close the videostream\n",
    "vid.release()\n",
    "cv2.destroyAllWindows()"
   ]
  },
  {
   "cell_type": "code",
   "execution_count": null,
   "id": "ffaf56d3",
   "metadata": {},
   "outputs": [],
   "source": []
  }
 ],
 "metadata": {
  "kernelspec": {
   "display_name": "Python 3",
   "language": "python",
   "name": "python3"
  },
  "language_info": {
   "codemirror_mode": {
    "name": "ipython",
    "version": 3
   },
   "file_extension": ".py",
   "mimetype": "text/x-python",
   "name": "python",
   "nbconvert_exporter": "python",
   "pygments_lexer": "ipython3",
   "version": "3.8.8"
  }
 },
 "nbformat": 4,
 "nbformat_minor": 5
}
