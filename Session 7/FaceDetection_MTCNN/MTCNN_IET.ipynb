{
  "nbformat": 4,
  "nbformat_minor": 0,
  "metadata": {
    "colab": {
      "name": "MTCNN_IET.ipynb",
      "provenance": [],
      "collapsed_sections": [],
      "toc_visible": true
    },
    "kernelspec": {
      "name": "python3",
      "display_name": "Python 3"
    },
    "language_info": {
      "name": "python"
    }
  },
  "cells": [
    {
      "cell_type": "markdown",
      "metadata": {
        "id": "L04xWNPs36Ne"
      },
      "source": [
        "# **MTCNN FACE DETECTION MODEL**\n",
        "\n",
        "Installing and Importing required Libraries"
      ]
    },
    {
      "cell_type": "code",
      "metadata": {
        "colab": {
          "base_uri": "https://localhost:8080/"
        },
        "id": "pC3SmKUZ4Amq",
        "outputId": "27c67955-28e3-4a84-d950-f2890240a4f3"
      },
      "source": [
        "!pip install mtcnn\n",
        "from mtcnn import MTCNN\n",
        "import cv2"
      ],
      "execution_count": null,
      "outputs": [
        {
          "output_type": "stream",
          "text": [
            "Collecting mtcnn\n",
            "\u001b[?25l  Downloading https://files.pythonhosted.org/packages/67/43/abee91792797c609c1bf30f1112117f7a87a713ebaa6ec5201d5555a73ef/mtcnn-0.1.0-py3-none-any.whl (2.3MB)\n",
            "\u001b[K     |████████████████████████████████| 2.3MB 32.9MB/s \n",
            "\u001b[?25hRequirement already satisfied: opencv-python>=4.1.0 in /usr/local/lib/python3.7/dist-packages (from mtcnn) (4.1.2.30)\n",
            "Requirement already satisfied: keras>=2.0.0 in /usr/local/lib/python3.7/dist-packages (from mtcnn) (2.4.3)\n",
            "Requirement already satisfied: numpy>=1.14.5 in /usr/local/lib/python3.7/dist-packages (from opencv-python>=4.1.0->mtcnn) (1.19.5)\n",
            "Requirement already satisfied: h5py in /usr/local/lib/python3.7/dist-packages (from keras>=2.0.0->mtcnn) (3.1.0)\n",
            "Requirement already satisfied: scipy>=0.14 in /usr/local/lib/python3.7/dist-packages (from keras>=2.0.0->mtcnn) (1.4.1)\n",
            "Requirement already satisfied: pyyaml in /usr/local/lib/python3.7/dist-packages (from keras>=2.0.0->mtcnn) (3.13)\n",
            "Requirement already satisfied: cached-property; python_version < \"3.8\" in /usr/local/lib/python3.7/dist-packages (from h5py->keras>=2.0.0->mtcnn) (1.5.2)\n",
            "Installing collected packages: mtcnn\n",
            "Successfully installed mtcnn-0.1.0\n"
          ],
          "name": "stdout"
        }
      ]
    },
    {
      "cell_type": "markdown",
      "metadata": {
        "id": "vfLAzlfQ4y2r"
      },
      "source": [
        "**Running the Test image through the model**"
      ]
    },
    {
      "cell_type": "code",
      "metadata": {
        "id": "HzUnBdQe4CBT",
        "colab": {
          "base_uri": "https://localhost:8080/"
        },
        "outputId": "96305ce4-a5f1-42ba-e80c-6b93d69e52c3"
      },
      "source": [
        "img=cv2.imread(\"Poster-sized_portrait_of_Barack_Obama.jpg\")\n",
        "img = cv2.cvtColor(img, cv2.COLOR_BGR2RGB)  \n",
        "detector = MTCNN()\n",
        "result = detector.detect_faces(img)\n",
        "print(len(result))\n",
        "print(result[0])\n",
        "print(result[0]['box'])"
      ],
      "execution_count": 9,
      "outputs": [
        {
          "output_type": "stream",
          "text": [
            "1\n",
            "{'box': [302, 261, 708, 1000], 'confidence': 0.9999899864196777, 'keypoints': {'left_eye': (515, 675), 'right_eye': (835, 662), 'nose': (697, 872), 'mouth_left': (512, 981), 'mouth_right': (852, 973)}}\n",
            "[302, 261, 708, 1000]\n"
          ],
          "name": "stdout"
        }
      ]
    },
    {
      "cell_type": "markdown",
      "metadata": {
        "id": "w0vKWoPRqtY4"
      },
      "source": [
        "# New Section"
      ]
    },
    {
      "cell_type": "code",
      "metadata": {
        "id": "mdpt1MNl4r__"
      },
      "source": [
        " "
      ],
      "execution_count": null,
      "outputs": []
    },
    {
      "cell_type": "markdown",
      "metadata": {
        "id": "1Rx5gAy547Bq"
      },
      "source": [
        ""
      ]
    }
  ]
}