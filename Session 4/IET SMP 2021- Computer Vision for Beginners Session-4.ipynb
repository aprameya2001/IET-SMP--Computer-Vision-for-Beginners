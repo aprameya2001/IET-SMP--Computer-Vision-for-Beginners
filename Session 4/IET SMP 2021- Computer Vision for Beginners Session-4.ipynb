{
 "cells": [
  {
   "cell_type": "code",
   "execution_count": 1,
   "metadata": {},
   "outputs": [
    {
     "name": "stderr",
     "output_type": "stream",
     "text": [
      "C:\\Users\\Aakash Chandra\\anaconda3\\lib\\site-packages\\numpy\\_distributor_init.py:30: UserWarning: loaded more than 1 DLL from .libs:\n",
      "C:\\Users\\Aakash Chandra\\anaconda3\\lib\\site-packages\\numpy\\.libs\\libopenblas.PYQHXLVVQ7VESDPUVUADXEVJOBGHJPAY.gfortran-win_amd64.dll\n",
      "C:\\Users\\Aakash Chandra\\anaconda3\\lib\\site-packages\\numpy\\.libs\\libopenblas.QVLO2T66WEPI7JZ63PS3HMOHFEY472BC.gfortran-win_amd64.dll\n",
      "  warnings.warn(\"loaded more than 1 DLL from .libs:\\n%s\" %\n"
     ]
    }
   ],
   "source": [
    "import cv2\n",
    "import numpy"
   ]
  },
  {
   "cell_type": "markdown",
   "metadata": {},
   "source": [
    "# Contours\n"
   ]
  },
  {
   "cell_type": "markdown",
   "metadata": {},
   "source": [
    "## Reading Image and Convert to Gray \n"
   ]
  },
  {
   "cell_type": "code",
   "execution_count": 11,
   "metadata": {},
   "outputs": [],
   "source": [
    "im = cv2.imread('opencv.png')\n",
    "imgray = cv2.cvtColor(im, cv2.COLOR_BGR2GRAY)\n",
    "cv2.imshow(\"Logo b/w\",imgray)\n",
    "cv2.waitKey(0)\n",
    "cv2.destroyAllWindows()\n"
   ]
  },
  {
   "cell_type": "markdown",
   "metadata": {},
   "source": [
    "## Apply Thresholding\n"
   ]
  },
  {
   "cell_type": "code",
   "execution_count": 12,
   "metadata": {},
   "outputs": [],
   "source": [
    "ret, thresh = cv2.threshold(imgray, 250, 255, 0)\n",
    "cv2.imshow(\"Logo b/w\",thresh)\n",
    "cv2.waitKey(0)\n",
    "cv2.destroyAllWindows()"
   ]
  },
  {
   "cell_type": "markdown",
   "metadata": {},
   "source": [
    " ## Find Contours\n",
    "cv2.findContours is used to find contours.As the arguments for the function first one is source image, second is contour retrieval mode, third is contour approximation method.The contours variable holds the contours found in the image and each contour is a array of points joining which would give us the boundary"
   ]
  },
  {
   "cell_type": "code",
   "execution_count": 20,
   "metadata": {},
   "outputs": [
    {
     "name": "stdout",
     "output_type": "stream",
     "text": [
      "13\n",
      "[[[-1 -1  1 -1]\n",
      "  [ 2 -1 -1  0]\n",
      "  [ 4  1  3  0]\n",
      "  [-1 -1 -1  2]\n",
      "  [ 6  2  5  0]\n",
      "  [-1 -1 -1  4]\n",
      "  [ 7  4 -1  0]\n",
      "  [ 8  6 -1  0]\n",
      "  [10  7  9  0]\n",
      "  [-1 -1 -1  8]\n",
      "  [11  8 -1  0]\n",
      "  [12 10 -1  0]\n",
      "  [-1 11 -1  0]]]\n"
     ]
    }
   ],
   "source": [
    "contours, _ = cv2.findContours(thresh, cv2.RETR_TREE, cv2.CHAIN_APPROX_SIMPLE)\n",
    "#No of Contours in the image\n",
    "print(len(contours))\n",
    "print(_)"
   ]
  },
  {
   "cell_type": "markdown",
   "metadata": {},
   "source": [
    "## Draw Contours\n",
    "Done using the cv2.drawContours method . Takes arguments as the image, the set of points, the color of the contour and the thickness of the line"
   ]
  },
  {
   "cell_type": "code",
   "execution_count": 14,
   "metadata": {},
   "outputs": [],
   "source": [
    "cv2.drawContours(im, contours, -1, (255,255,0), 3)\n",
    "cv2.imshow(\"Image with contours\",im)\n",
    "cv2.waitKey(0)\n",
    "cv2.destroyAllWindows()"
   ]
  },
  {
   "cell_type": "markdown",
   "metadata": {},
   "source": [
    "# Motion Detection and Tracking\n"
   ]
  },
  {
   "cell_type": "markdown",
   "metadata": {},
   "source": [
    "## Reading and Displaying a Video"
   ]
  },
  {
   "cell_type": "code",
   "execution_count": 17,
   "metadata": {},
   "outputs": [],
   "source": [
    "cap=cv2.VideoCapture(\"Cars Moving On Road Stock Footage - Free Download.mp4\")\n",
    "while cap.isOpened():\n",
    "    ret,frame=cap.read()\n",
    "    cv2.imshow(\"Video\",frame)\n",
    "    if cv2.waitKey(40)==27:\n",
    "        break\n",
    "\n",
    "cv2.destroyAllWindows()\n",
    "cap.release()\n"
   ]
  },
  {
   "cell_type": "markdown",
   "metadata": {},
   "source": [
    "# Reading two frames"
   ]
  },
  {
   "cell_type": "code",
   "execution_count": 23,
   "metadata": {},
   "outputs": [],
   "source": [
    "cap=cv2.VideoCapture(\"Cars Moving On Road Stock Footage - Free Download.mp4\")\n",
    "ret,frame1=cap.read()\n",
    "ret,frame2=cap.read()\n",
    "while cap.isOpened():\n",
    "    diff=cv2.absdiff(frame1,frame2)#Difference between Frames\n",
    "    gray=cv2.cvtColor(diff,cv2.COLOR_BGR2GRAY)#Convert to Grayscale\n",
    "    blur=cv2.GaussianBlur(gray,(5,5),0)#Blur it\n",
    "    _,thresh=cv2.threshold(blur,20,255,cv2.THRESH_BINARY)#Thresholding\n",
    "    dilated=cv2.dilate(thresh,None,iterations=3)#Dilation\n",
    "    contours,_=cv2.findContours(dilated,cv2.RETR_TREE,cv2.CHAIN_APPROX_SIMPLE)#Finding Contours\n",
    "    #cv2.drawContours(frame1,contours,-1,(0,255,0),2)\n",
    "    #Drawing Bounding Box for each contour\n",
    "    for contour in contours:\n",
    "        (x,y,w,h)=cv2.boundingRect(contour)\n",
    "        if(cv2.contourArea(contour)<2000):\n",
    "            continue\n",
    "        cv2.rectangle(frame1,(x,y),(x+w,y+h),(0,25,45),3)\n",
    "    cv2.imshow(\"Video\",frame1)\n",
    "    frame1=frame2\n",
    "    _,frame2=cap.read()\n",
    "    if cv2.waitKey(40)==27:\n",
    "        break\n",
    "cv2.destroyAllWindows()\n",
    "cap.release()"
   ]
  },
  {
   "cell_type": "code",
   "execution_count": null,
   "metadata": {},
   "outputs": [],
   "source": []
  }
 ],
 "metadata": {
  "kernelspec": {
   "display_name": "Python 3",
   "language": "python",
   "name": "python3"
  },
  "language_info": {
   "codemirror_mode": {
    "name": "ipython",
    "version": 3
   },
   "file_extension": ".py",
   "mimetype": "text/x-python",
   "name": "python",
   "nbconvert_exporter": "python",
   "pygments_lexer": "ipython3",
   "version": "3.8.5"
  }
 },
 "nbformat": 4,
 "nbformat_minor": 4
}
