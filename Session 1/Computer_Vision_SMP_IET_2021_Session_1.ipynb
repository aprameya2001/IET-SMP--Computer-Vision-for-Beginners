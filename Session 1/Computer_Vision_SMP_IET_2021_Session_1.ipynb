{
 "cells": [
  {
   "cell_type": "markdown",
   "metadata": {
    "id": "R5ohNxZEr5C9"
   },
   "source": [
    "# **Computer Vision SMP IET 2021-Session 1**"
   ]
  },
  {
   "cell_type": "markdown",
   "metadata": {
    "id": "G4uCaxTBsWRc"
   },
   "source": [
    "Installing the Required Libraries\n"
   ]
  },
  {
   "cell_type": "code",
   "execution_count": null,
   "metadata": {
    "id": "y2zMR58Pru_S"
   },
   "outputs": [],
   "source": [
    "!pip install opencv-python\n",
    "!pip install matplotlib\n",
    "!pip install numpy"
   ]
  },
  {
   "cell_type": "markdown",
   "metadata": {
    "id": "7VF9mwP5sdoy"
   },
   "source": [
    "Importing the Installed Libraries\n"
   ]
  },
  {
   "cell_type": "code",
   "execution_count": 3,
   "metadata": {
    "id": "LX3u-b0-scxD"
   },
   "outputs": [],
   "source": [
    "import matplotlib.pyplot as plt\n",
    "import numpy as np\n",
    "import cv2"
   ]
  },
  {
   "cell_type": "markdown",
   "metadata": {
    "id": "1642Iu4etRSK"
   },
   "source": [
    "Get Image from PIL To work with Images\n"
   ]
  },
  {
   "cell_type": "code",
   "execution_count": 4,
   "metadata": {
    "id": "2oS1cKojsLv2"
   },
   "outputs": [],
   "source": [
    "from PIL import Image"
   ]
  },
  {
   "cell_type": "markdown",
   "metadata": {
    "id": "MINlxmfjtanp"
   },
   "source": [
    "Opening Image\n"
   ]
  },
  {
   "cell_type": "code",
   "execution_count": null,
   "metadata": {
    "id": "sTmuKip5tQcf"
   },
   "outputs": [],
   "source": [
    "img = Image.open('ironman.jpg')\n",
    "plt.figure(figsize = (12, 5))\n",
    "plt.imshow(img)\n"
   ]
  },
  {
   "cell_type": "markdown",
   "metadata": {
    "id": "q59eOkyHt5EU"
   },
   "source": [
    "Rotating Image\n"
   ]
  },
  {
   "cell_type": "code",
   "execution_count": null,
   "metadata": {
    "id": "-K5aStcctr8L"
   },
   "outputs": [],
   "source": [
    "plt.figure(figsize = (12, 5))\n",
    "plt.imshow(img.rotate(-90))"
   ]
  },
  {
   "cell_type": "markdown",
   "metadata": {
    "id": "zZ_YN5gquHFH"
   },
   "source": [
    "Visualising Image\n"
   ]
  },
  {
   "cell_type": "code",
   "execution_count": null,
   "metadata": {
    "id": "spDE-yGMt-jM"
   },
   "outputs": [],
   "source": [
    "print(img)"
   ]
  },
  {
   "cell_type": "markdown",
   "metadata": {
    "id": "Y4R4_tZHuVq8"
   },
   "source": [
    "Using Numpy to make it as an array"
   ]
  },
  {
   "cell_type": "code",
   "execution_count": null,
   "metadata": {
    "id": "JU7FsA8puEFc"
   },
   "outputs": [],
   "source": [
    "imgArray = np.asarray(img)\n",
    "print(imgArray)"
   ]
  },
  {
   "cell_type": "code",
   "execution_count": null,
   "metadata": {
    "id": "yTY_N78XuPnA"
   },
   "outputs": [],
   "source": [
    "imgArray.shape\n",
    "\n"
   ]
  },
  {
   "cell_type": "markdown",
   "metadata": {
    "id": "G9P4AJMSuoNC"
   },
   "source": [
    "RGB Channels\n"
   ]
  },
  {
   "cell_type": "code",
   "execution_count": null,
   "metadata": {
    "id": "s5z6kOzsucyr"
   },
   "outputs": [],
   "source": [
    "red=imgArray[:, :, 0]\n",
    "green=imgArray[:, :, 1]\n",
    "blue=imgArray[:, :, 2]\n",
    "plt.imshow(red)\n"
   ]
  },
  {
   "cell_type": "code",
   "execution_count": null,
   "metadata": {
    "id": "8Aq4xm4yu8vx"
   },
   "outputs": [],
   "source": [
    "plt.imshow(green)\n"
   ]
  },
  {
   "cell_type": "code",
   "execution_count": null,
   "metadata": {
    "id": "8tH416mXvBNb"
   },
   "outputs": [],
   "source": [
    "plt.imshow(blue)"
   ]
  },
  {
   "cell_type": "markdown",
   "metadata": {
    "id": "9hxw_ke9vy33"
   },
   "source": [
    "Removing Red \n"
   ]
  },
  {
   "cell_type": "code",
   "execution_count": null,
   "metadata": {
    "id": "hRaM9YSLvPbZ"
   },
   "outputs": [],
   "source": [
    "imgTest = imgArray.copy()\n",
    "imgTest[:, :, 0]=0\n",
    "plt.imshow(imgTest)"
   ]
  },
  {
   "cell_type": "markdown",
   "metadata": {
    "id": "uEETHONAv-cW"
   },
   "source": [
    "## OpenCV"
   ]
  },
  {
   "cell_type": "markdown",
   "metadata": {
    "id": "7iOfaTxO5xCY"
   },
   "source": [
    "Reading Image\n"
   ]
  },
  {
   "cell_type": "code",
   "execution_count": null,
   "metadata": {
    "id": "v25IqGEsvhII"
   },
   "outputs": [],
   "source": [
    "img2 = cv2.imread('ironman.jpg')\n",
    "print(img2)"
   ]
  },
  {
   "cell_type": "markdown",
   "metadata": {
    "id": "WNf3fDvQ7Gmn"
   },
   "source": [
    "To view Image in Google Colab\n"
   ]
  },
  {
   "cell_type": "code",
   "execution_count": null,
   "metadata": {
    "id": "_jCB15lX5zGt"
   },
   "outputs": [],
   "source": [
    "from google.colab.patches import cv2_imshow\n",
    "cv2_imshow(img2)"
   ]
  },
  {
   "cell_type": "markdown",
   "metadata": {
    "id": "d8VEMQN17J_m"
   },
   "source": [
    "Note:The below code is Standard OpenCv to show a particular image. \n",
    "Doesnt work in Google Colab. Works in other Python IDEs like Pycharm, Jupyter, etc"
   ]
  },
  {
   "cell_type": "code",
   "execution_count": null,
   "metadata": {
    "id": "ZwFdDpWP6YjB"
   },
   "outputs": [],
   "source": [
    "cv2.imshow(\"IronMan\",img2)\n",
    "cv2.waitKey(0)\n",
    "cv2.destroyAllWindows()"
   ]
  },
  {
   "cell_type": "markdown",
   "metadata": {
    "id": "nqft-ARE7tPh"
   },
   "source": [
    "Saving a Image"
   ]
  },
  {
   "cell_type": "code",
   "execution_count": null,
   "metadata": {
    "id": "fuMAe5ZM7l5Y"
   },
   "outputs": [],
   "source": [
    "cv2.imwrite(\"Newimage.jpg\",img2)"
   ]
  },
  {
   "cell_type": "markdown",
   "metadata": {
    "id": "nsEPsi59CHV_"
   },
   "source": [
    "Width and Height of Image\n"
   ]
  },
  {
   "cell_type": "code",
   "execution_count": null,
   "metadata": {
    "id": "vBq97oD57zUp"
   },
   "outputs": [],
   "source": [
    "img2.shape"
   ]
  },
  {
   "cell_type": "markdown",
   "metadata": {
    "id": "CHjyxSpiCSNe"
   },
   "source": [
    "Conversion from one form to another\n",
    "\n"
   ]
  },
  {
   "cell_type": "code",
   "execution_count": null,
   "metadata": {
    "id": "RP1oOFTQ738B"
   },
   "outputs": [],
   "source": [
    "bwimg2=cv2.cvtColor(img2,cv2.COLOR_BGR2GRAY)\n",
    "cv2_imshow(bwimg2)\n",
    "\n",
    "\n"
   ]
  },
  {
   "cell_type": "markdown",
   "metadata": {
    "id": "6x8GWfMrClb5"
   },
   "source": [
    "Resizing image"
   ]
  },
  {
   "cell_type": "code",
   "execution_count": null,
   "metadata": {
    "id": "Rv3Lakrc79vI"
   },
   "outputs": [],
   "source": [
    "imgNew = cv2.resize(img2,(800, 400))\n",
    "cv2_imshow(imgNew)"
   ]
  },
  {
   "cell_type": "markdown",
   "metadata": {
    "id": "9Uh19I-9D4Xk"
   },
   "source": [
    "Rotate Image\n"
   ]
  },
  {
   "cell_type": "code",
   "execution_count": null,
   "metadata": {
    "id": "IEmhDSIh8HxD"
   },
   "outputs": [],
   "source": [
    "imgrotate = cv2.rotate(img2, cv2.ROTATE_90_CLOCKWISE)\n",
    "cv2_imshow(imgrotate)"
   ]
  },
  {
   "cell_type": "markdown",
   "metadata": {
    "id": "POwlNvEKEqgb"
   },
   "source": [
    "# Drawing Shapes\n"
   ]
  },
  {
   "cell_type": "markdown",
   "metadata": {
    "id": "1k97DUvmEySV"
   },
   "source": [
    "Circle"
   ]
  },
  {
   "cell_type": "code",
   "execution_count": null,
   "metadata": {
    "id": "jyLNEvA5EqBR"
   },
   "outputs": [],
   "source": [
    "cv2.circle(img = img2,\n",
    "           center = (400, 100),\n",
    "           radius = 50,\n",
    "           color = (0, 255, 0),\n",
    "           thickness = 8)\n",
    "\n",
    "cv2_imshow(img2)\n"
   ]
  },
  {
   "cell_type": "markdown",
   "metadata": {
    "id": "YbcZjWsiE9S4"
   },
   "source": [
    "Rectangle"
   ]
  },
  {
   "cell_type": "code",
   "execution_count": null,
   "metadata": {
    "id": "TlHgzdR88HxE"
   },
   "outputs": [],
   "source": [
    "cv2.rectangle(img2,\n",
    "              pt1 = (200, 200),\n",
    "              pt2 = (300, 300),\n",
    "              color = (0, 0, 255),\n",
    "              thickness = 5)\n",
    "cv2_imshow(img2)"
   ]
  },
  {
   "cell_type": "markdown",
   "metadata": {
    "id": "qVkSfqlyFIG1"
   },
   "source": [
    "Line"
   ]
  },
  {
   "cell_type": "code",
   "execution_count": null,
   "metadata": {
    "id": "WQpvisOMFF5t"
   },
   "outputs": [],
   "source": [
    "cv2.line(img2,\n",
    "         pt1 = (512, 0),\n",
    "         pt2 = (0, 512),\n",
    "         color = (100, 255, 100),\n",
    "         thickness = 3)\n",
    "\n",
    "cv2_imshow(img2)"
   ]
  },
  {
   "cell_type": "code",
   "execution_count": null,
   "metadata": {
    "id": "lmbcTXfiFcmS"
   },
   "outputs": [],
   "source": []
  }
 ],
 "metadata": {
  "colab": {
   "collapsed_sections": [],
   "name": "Computer Vision SMP IET 2021-Session 1",
   "provenance": []
  },
  "kernelspec": {
   "display_name": "Python 3",
   "language": "python",
   "name": "python3"
  },
  "language_info": {
   "codemirror_mode": {
    "name": "ipython",
    "version": 3
   },
   "file_extension": ".py",
   "mimetype": "text/x-python",
   "name": "python",
   "nbconvert_exporter": "python",
   "pygments_lexer": "ipython3",
   "version": "3.8.8"
  }
 },
 "nbformat": 4,
 "nbformat_minor": 1
}
